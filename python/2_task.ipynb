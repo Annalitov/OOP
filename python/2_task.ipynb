{
 "cells": [
  {
   "cell_type": "markdown",
   "id": "246424fe",
   "metadata": {},
   "source": [
    "# Самостоятельная работа #2\n",
    "### Задание 1\n",
    "\n",
    "Допишите функцию, которая принимает 2 числа, сравнивает между собой и возвращает наименьшее."
   ]
  },
  {
   "cell_type": "code",
   "execution_count": 9,
   "id": "1b225d18",
   "metadata": {},
   "outputs": [],
   "source": [
    "def Min(a, b):\n",
    "    if a <= b:\n",
    "        return a\n",
    "    return b"
   ]
  },
  {
   "cell_type": "markdown",
   "id": "9342d85f",
   "metadata": {},
   "source": [
    "### Задание 2\n",
    "\n",
    "Допишите функцию, которая принимает 3 числа, сравнивает между собой и возвращает наименьшее."
   ]
  },
  {
   "cell_type": "code",
   "execution_count": 17,
   "id": "5371aa95",
   "metadata": {},
   "outputs": [],
   "source": [
    "def Min(a,b,c) :\n",
    "    if a <= b and a <= c :\n",
    "        return a\n",
    "    if b <= a and b <= c :\n",
    "        return b\n",
    "    if c <= a and c <= b :\n",
    "        return c"
   ]
  },
  {
   "cell_type": "markdown",
   "id": "9ef85dfd",
   "metadata": {},
   "source": [
    "### Задание 2\n",
    "\n",
    "Допишите функцию, которая принимает 3 числа, сравнивает между собой и возвращает количество совпадающих чисел. Соответственно, программа может возвращать одно из трех чисел: 3 - если совпадают все, 2 - если совпадают 2 числа, 0 - если все числа различны."
   ]
  },
  {
   "cell_type": "code",
   "execution_count": 21,
   "id": "ec6a169c",
   "metadata": {},
   "outputs": [
    {
     "name": "stdout",
     "output_type": "stream",
     "text": [
      "0\n"
     ]
    }
   ],
   "source": [
    "def Sovpadenie(a,b,c) :\n",
    "    if a == b and a == c :\n",
    "        return 3\n",
    "    elif b == a or b == c :\n",
    "        return 2\n",
    "    else :\n",
    "        return 0"
   ]
  }
 ],
 "metadata": {
  "kernelspec": {
   "display_name": "Python 3.9.13 64-bit",
   "language": "python",
   "name": "python3"
  },
  "language_info": {
   "codemirror_mode": {
    "name": "ipython",
    "version": 3
   },
   "file_extension": ".py",
   "mimetype": "text/x-python",
   "name": "python",
   "nbconvert_exporter": "python",
   "pygments_lexer": "ipython3",
   "version": "3.9.13"
  },
  "vscode": {
   "interpreter": {
    "hash": "a665b5d41d17b532ea9890333293a1b812fa0b73c9c25c950b3cedf1bebd0438"
   }
  }
 },
 "nbformat": 4,
 "nbformat_minor": 5
}
