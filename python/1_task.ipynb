{
 "cells": [
  {
   "cell_type": "markdown",
   "id": "caec52ff",
   "metadata": {},
   "source": [
    "# Самостоятельное задание\n",
    "\n",
    "Мы предлагаем вам потренироваться c логическими и побитовыми операторами."
   ]
  },
  {
   "cell_type": "code",
   "execution_count": 2,
   "id": "7fe7e97e",
   "metadata": {},
   "outputs": [],
   "source": [
    "a = True\n",
    "\n",
    "b = False"
   ]
  },
  {
   "cell_type": "code",
   "execution_count": 3,
   "id": "1b225d18",
   "metadata": {},
   "outputs": [
    {
     "name": "stdout",
     "output_type": "stream",
     "text": [
      "False\n"
     ]
    }
   ],
   "source": [
    "# 1\n",
    "a = True\n",
    "b = False\n",
    "c = a and b\n",
    "print(c)"
   ]
  },
  {
   "cell_type": "code",
   "execution_count": 4,
   "id": "1b225d18",
   "metadata": {},
   "outputs": [
    {
     "name": "stdout",
     "output_type": "stream",
     "text": [
      "False\n"
     ]
    }
   ],
   "source": [
    "# 2\n",
    "a = True\n",
    "b = False\n",
    "c = (a and b) or b\n",
    "print(c)"
   ]
  },
  {
   "cell_type": "code",
   "execution_count": 5,
   "id": "1b225d18",
   "metadata": {},
   "outputs": [
    {
     "name": "stdout",
     "output_type": "stream",
     "text": [
      "True\n"
     ]
    }
   ],
   "source": [
    "# 3\n",
    "a = True\n",
    "b = False\n",
    "c = (a and b) or not (a and b)\n",
    "print(c)"
   ]
  },
  {
   "cell_type": "code",
   "execution_count": 6,
   "id": "1b225d18",
   "metadata": {},
   "outputs": [
    {
     "name": "stdout",
     "output_type": "stream",
     "text": [
      "False\n"
     ]
    }
   ],
   "source": [
    "# 4\n",
    "a = True\n",
    "b = False\n",
    "c = a and b or not (a or b) or b\n",
    "print(c)"
   ]
  },
  {
   "cell_type": "code",
   "execution_count": 7,
   "id": "1b225d18",
   "metadata": {},
   "outputs": [
    {
     "name": "stdout",
     "output_type": "stream",
     "text": [
      "False\n"
     ]
    }
   ],
   "source": [
    "# 5\n",
    "a = True\n",
    "b = False\n",
    "c = b and b or not a and (a or b or a) or not (a or b)\n",
    "print(c)"
   ]
  },
  {
   "cell_type": "code",
   "execution_count": 8,
   "id": "9ec988bb",
   "metadata": {},
   "outputs": [
    {
     "name": "stdout",
     "output_type": "stream",
     "text": [
      "4\n"
     ]
    }
   ],
   "source": [
    "# 6\n",
    "print(1 << 2)"
   ]
  },
  {
   "cell_type": "code",
   "execution_count": 9,
   "id": "c115f1c9",
   "metadata": {},
   "outputs": [
    {
     "name": "stdout",
     "output_type": "stream",
     "text": [
      "0\n"
     ]
    }
   ],
   "source": [
    "# 7\n",
    "print(1 & 0 | 1 >> 1)"
   ]
  },
  {
   "cell_type": "code",
   "execution_count": 10,
   "id": "2e222d7c",
   "metadata": {},
   "outputs": [
    {
     "name": "stdout",
     "output_type": "stream",
     "text": [
      "1\n"
     ]
    }
   ],
   "source": [
    "# 8\n",
    "print(1 & 0 | 1 >> 0)"
   ]
  },
  {
   "cell_type": "code",
   "execution_count": 11,
   "id": "3a8ecccb",
   "metadata": {},
   "outputs": [
    {
     "name": "stdout",
     "output_type": "stream",
     "text": [
      "2\n"
     ]
    }
   ],
   "source": [
    "# 9\n",
    "print(0b101 & 0b111 ^ 0b111 | 0b010)"
   ]
  },
  {
   "cell_type": "markdown",
   "id": "06c53579",
   "metadata": {},
   "source": [
    "**Решите:**\n",
    "\n",
    "1. a and b\n",
    "\n",
    "2. (a and b) or b\n",
    "\n",
    "3. (a and b) or not (a and b)\n",
    "\n",
    "4. a and b or not (a or b) or b\n",
    "\n",
    "5. b and b or not a and (a or b or a) or not (a or b)\n",
    "\n",
    "6. 1 << 2\n",
    "\n",
    "7. 1 & 0 | 1 >> 1\n",
    "\n",
    "8. 1 & 0 | 1 >> 0\n",
    "\n",
    "9. 0b101 & 0b111 ^ 0b111 | 0b010  Комментарий: \"0b101\" - запись числа \"5\" на языке Python в двоичном виде "
   ]
  }
 ],
 "metadata": {
  "kernelspec": {
   "display_name": "Python 3.9.13 64-bit",
   "language": "python",
   "name": "python3"
  },
  "language_info": {
   "codemirror_mode": {
    "name": "ipython",
    "version": 3
   },
   "file_extension": ".py",
   "mimetype": "text/x-python",
   "name": "python",
   "nbconvert_exporter": "python",
   "pygments_lexer": "ipython3",
   "version": "3.9.13"
  },
  "vscode": {
   "interpreter": {
    "hash": "a665b5d41d17b532ea9890333293a1b812fa0b73c9c25c950b3cedf1bebd0438"
   }
  }
 },
 "nbformat": 4,
 "nbformat_minor": 5
}
